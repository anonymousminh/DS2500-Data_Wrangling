{
  "nbformat": 4,
  "nbformat_minor": 0,
  "metadata": {
    "colab": {
      "provenance": [],
      "authorship_tag": "ABX9TyOeq3U8BiG8K+SZnOUvLhnJ",
      "include_colab_link": true
    },
    "kernelspec": {
      "name": "python3",
      "display_name": "Python 3"
    },
    "language_info": {
      "name": "python"
    }
  },
  "cells": [
    {
      "cell_type": "markdown",
      "metadata": {
        "id": "view-in-github",
        "colab_type": "text"
      },
      "source": [
        "<a href=\"https://colab.research.google.com/github/anonymousminh/DS2500-Data_Wrangling/blob/main/Module_Assignment_1.ipynb\" target=\"_parent\"><img src=\"https://colab.research.google.com/assets/colab-badge.svg\" alt=\"Open In Colab\"/></a>"
      ]
    },
    {
      "cell_type": "markdown",
      "source": [
        "# **DS2500 - Exploratory Data Analysis**\n",
        "\n",
        "Minh Le"
      ],
      "metadata": {
        "id": "Qan7wcaMqu3b"
      }
    },
    {
      "cell_type": "code",
      "source": [
        "%matplotlib inline\n",
        "import matplotlib.pyplot as plt\n",
        "import numpy as np\n",
        "import pandas as pd\n",
        "\n",
        "from scipy.stats import ttest_ind\n"
      ],
      "metadata": {
        "id": "-2p4UEidgLvP"
      },
      "execution_count": null,
      "outputs": []
    },
    {
      "cell_type": "markdown",
      "source": [
        "# 1. Formula your question\n",
        "\n",
        "\"How well do vote counts correlate with other measures of popularity like ratings of the series?\""
      ],
      "metadata": {
        "id": "8dQzicDvjX7u"
      }
    },
    {
      "cell_type": "markdown",
      "source": [
        "# 2. Read in your data"
      ],
      "metadata": {
        "id": "kzX07M53lwo4"
      }
    },
    {
      "cell_type": "code",
      "execution_count": null,
      "metadata": {
        "id": "SZUteXH2pNG6"
      },
      "outputs": [],
      "source": [
        "# From https://github.com/harsh1399/DS2500-Data_Wrangling.git\n",
        "\n",
        "movies_df = pd.read_csv('https://raw.githubusercontent.com/harsh1399/DS2500-Data_Wrangling/main/Module_Assignment-1/IMDB_TV_dataset/TV%20Series%20Names%20with%201k%20Votes.csv', encoding='latin1')"
      ]
    },
    {
      "cell_type": "markdown",
      "source": [
        "# 3. Check the packaging"
      ],
      "metadata": {
        "id": "kqWq3vwfmxni"
      }
    },
    {
      "cell_type": "code",
      "source": [
        "movies_df.shape"
      ],
      "metadata": {
        "colab": {
          "base_uri": "https://localhost:8080/"
        },
        "id": "P3mIuKM8nGmY",
        "outputId": "bb8c3ae5-9c99-4493-f014-4767c548bb2d"
      },
      "execution_count": null,
      "outputs": [
        {
          "output_type": "execute_result",
          "data": {
            "text/plain": [
              "(6679, 7)"
            ]
          },
          "metadata": {},
          "execution_count": 3
        }
      ]
    },
    {
      "cell_type": "markdown",
      "source": [
        "# 4. Look at the top and bottom of data"
      ],
      "metadata": {
        "id": "TzKvthbfnQVN"
      }
    },
    {
      "cell_type": "code",
      "source": [
        "movies_df.head()"
      ],
      "metadata": {
        "colab": {
          "base_uri": "https://localhost:8080/",
          "height": 204
        },
        "id": "Bq4DAnzdqP-j",
        "outputId": "093cc07c-2bd0-4ae6-efdb-dfb410177711"
      },
      "execution_count": null,
      "outputs": [
        {
          "output_type": "execute_result",
          "data": {
            "text/plain": [
              "      tconst                            primaryTitle         genres  numVotes  \\\n",
              "0  tt0040053                    The Ed Sullivan Show   Comedy,Music      1124   \n",
              "1  tt0041038                         The Lone Ranger        Western      2064   \n",
              "2  tt0042111  The George Burns and Gracie Allen Show         Comedy      1181   \n",
              "3  tt0042114                        The Honeymooners  Comedy,Family      4676   \n",
              "4  tt0042116                  The Jack Benny Program         Comedy      1231   \n",
              "\n",
              "   averageRating  startYear                                     SeriesName  \n",
              "0            7.8     1948.0                    The Ed Sullivan Show (1948)  \n",
              "1            7.8     1949.0                         The Lone Ranger (1949)  \n",
              "2            8.4     1950.0  The George Burns and Gracie Allen Show (1950)  \n",
              "3            8.6     1955.0                        The Honeymooners (1955)  \n",
              "4            8.4     1950.0                  The Jack Benny Program (1950)  "
            ],
            "text/html": [
              "\n",
              "  <div id=\"df-025df349-093c-4281-a30f-b89abd6cb49b\" class=\"colab-df-container\">\n",
              "    <div>\n",
              "<style scoped>\n",
              "    .dataframe tbody tr th:only-of-type {\n",
              "        vertical-align: middle;\n",
              "    }\n",
              "\n",
              "    .dataframe tbody tr th {\n",
              "        vertical-align: top;\n",
              "    }\n",
              "\n",
              "    .dataframe thead th {\n",
              "        text-align: right;\n",
              "    }\n",
              "</style>\n",
              "<table border=\"1\" class=\"dataframe\">\n",
              "  <thead>\n",
              "    <tr style=\"text-align: right;\">\n",
              "      <th></th>\n",
              "      <th>tconst</th>\n",
              "      <th>primaryTitle</th>\n",
              "      <th>genres</th>\n",
              "      <th>numVotes</th>\n",
              "      <th>averageRating</th>\n",
              "      <th>startYear</th>\n",
              "      <th>SeriesName</th>\n",
              "    </tr>\n",
              "  </thead>\n",
              "  <tbody>\n",
              "    <tr>\n",
              "      <th>0</th>\n",
              "      <td>tt0040053</td>\n",
              "      <td>The Ed Sullivan Show</td>\n",
              "      <td>Comedy,Music</td>\n",
              "      <td>1124</td>\n",
              "      <td>7.8</td>\n",
              "      <td>1948.0</td>\n",
              "      <td>The Ed Sullivan Show (1948)</td>\n",
              "    </tr>\n",
              "    <tr>\n",
              "      <th>1</th>\n",
              "      <td>tt0041038</td>\n",
              "      <td>The Lone Ranger</td>\n",
              "      <td>Western</td>\n",
              "      <td>2064</td>\n",
              "      <td>7.8</td>\n",
              "      <td>1949.0</td>\n",
              "      <td>The Lone Ranger (1949)</td>\n",
              "    </tr>\n",
              "    <tr>\n",
              "      <th>2</th>\n",
              "      <td>tt0042111</td>\n",
              "      <td>The George Burns and Gracie Allen Show</td>\n",
              "      <td>Comedy</td>\n",
              "      <td>1181</td>\n",
              "      <td>8.4</td>\n",
              "      <td>1950.0</td>\n",
              "      <td>The George Burns and Gracie Allen Show (1950)</td>\n",
              "    </tr>\n",
              "    <tr>\n",
              "      <th>3</th>\n",
              "      <td>tt0042114</td>\n",
              "      <td>The Honeymooners</td>\n",
              "      <td>Comedy,Family</td>\n",
              "      <td>4676</td>\n",
              "      <td>8.6</td>\n",
              "      <td>1955.0</td>\n",
              "      <td>The Honeymooners (1955)</td>\n",
              "    </tr>\n",
              "    <tr>\n",
              "      <th>4</th>\n",
              "      <td>tt0042116</td>\n",
              "      <td>The Jack Benny Program</td>\n",
              "      <td>Comedy</td>\n",
              "      <td>1231</td>\n",
              "      <td>8.4</td>\n",
              "      <td>1950.0</td>\n",
              "      <td>The Jack Benny Program (1950)</td>\n",
              "    </tr>\n",
              "  </tbody>\n",
              "</table>\n",
              "</div>\n",
              "    <div class=\"colab-df-buttons\">\n",
              "\n",
              "  <div class=\"colab-df-container\">\n",
              "    <button class=\"colab-df-convert\" onclick=\"convertToInteractive('df-025df349-093c-4281-a30f-b89abd6cb49b')\"\n",
              "            title=\"Convert this dataframe to an interactive table.\"\n",
              "            style=\"display:none;\">\n",
              "\n",
              "  <svg xmlns=\"http://www.w3.org/2000/svg\" height=\"24px\" viewBox=\"0 -960 960 960\">\n",
              "    <path d=\"M120-120v-720h720v720H120Zm60-500h600v-160H180v160Zm220 220h160v-160H400v160Zm0 220h160v-160H400v160ZM180-400h160v-160H180v160Zm440 0h160v-160H620v160ZM180-180h160v-160H180v160Zm440 0h160v-160H620v160Z\"/>\n",
              "  </svg>\n",
              "    </button>\n",
              "\n",
              "  <style>\n",
              "    .colab-df-container {\n",
              "      display:flex;\n",
              "      gap: 12px;\n",
              "    }\n",
              "\n",
              "    .colab-df-convert {\n",
              "      background-color: #E8F0FE;\n",
              "      border: none;\n",
              "      border-radius: 50%;\n",
              "      cursor: pointer;\n",
              "      display: none;\n",
              "      fill: #1967D2;\n",
              "      height: 32px;\n",
              "      padding: 0 0 0 0;\n",
              "      width: 32px;\n",
              "    }\n",
              "\n",
              "    .colab-df-convert:hover {\n",
              "      background-color: #E2EBFA;\n",
              "      box-shadow: 0px 1px 2px rgba(60, 64, 67, 0.3), 0px 1px 3px 1px rgba(60, 64, 67, 0.15);\n",
              "      fill: #174EA6;\n",
              "    }\n",
              "\n",
              "    .colab-df-buttons div {\n",
              "      margin-bottom: 4px;\n",
              "    }\n",
              "\n",
              "    [theme=dark] .colab-df-convert {\n",
              "      background-color: #3B4455;\n",
              "      fill: #D2E3FC;\n",
              "    }\n",
              "\n",
              "    [theme=dark] .colab-df-convert:hover {\n",
              "      background-color: #434B5C;\n",
              "      box-shadow: 0px 1px 3px 1px rgba(0, 0, 0, 0.15);\n",
              "      filter: drop-shadow(0px 1px 2px rgba(0, 0, 0, 0.3));\n",
              "      fill: #FFFFFF;\n",
              "    }\n",
              "  </style>\n",
              "\n",
              "    <script>\n",
              "      const buttonEl =\n",
              "        document.querySelector('#df-025df349-093c-4281-a30f-b89abd6cb49b button.colab-df-convert');\n",
              "      buttonEl.style.display =\n",
              "        google.colab.kernel.accessAllowed ? 'block' : 'none';\n",
              "\n",
              "      async function convertToInteractive(key) {\n",
              "        const element = document.querySelector('#df-025df349-093c-4281-a30f-b89abd6cb49b');\n",
              "        const dataTable =\n",
              "          await google.colab.kernel.invokeFunction('convertToInteractive',\n",
              "                                                    [key], {});\n",
              "        if (!dataTable) return;\n",
              "\n",
              "        const docLinkHtml = 'Like what you see? Visit the ' +\n",
              "          '<a target=\"_blank\" href=https://colab.research.google.com/notebooks/data_table.ipynb>data table notebook</a>'\n",
              "          + ' to learn more about interactive tables.';\n",
              "        element.innerHTML = '';\n",
              "        dataTable['output_type'] = 'display_data';\n",
              "        await google.colab.output.renderOutput(dataTable, element);\n",
              "        const docLink = document.createElement('div');\n",
              "        docLink.innerHTML = docLinkHtml;\n",
              "        element.appendChild(docLink);\n",
              "      }\n",
              "    </script>\n",
              "  </div>\n",
              "\n",
              "\n",
              "<div id=\"df-ffc64eae-b804-489f-9b66-5f31c3402682\">\n",
              "  <button class=\"colab-df-quickchart\" onclick=\"quickchart('df-ffc64eae-b804-489f-9b66-5f31c3402682')\"\n",
              "            title=\"Suggest charts\"\n",
              "            style=\"display:none;\">\n",
              "\n",
              "<svg xmlns=\"http://www.w3.org/2000/svg\" height=\"24px\"viewBox=\"0 0 24 24\"\n",
              "     width=\"24px\">\n",
              "    <g>\n",
              "        <path d=\"M19 3H5c-1.1 0-2 .9-2 2v14c0 1.1.9 2 2 2h14c1.1 0 2-.9 2-2V5c0-1.1-.9-2-2-2zM9 17H7v-7h2v7zm4 0h-2V7h2v10zm4 0h-2v-4h2v4z\"/>\n",
              "    </g>\n",
              "</svg>\n",
              "  </button>\n",
              "\n",
              "<style>\n",
              "  .colab-df-quickchart {\n",
              "      --bg-color: #E8F0FE;\n",
              "      --fill-color: #1967D2;\n",
              "      --hover-bg-color: #E2EBFA;\n",
              "      --hover-fill-color: #174EA6;\n",
              "      --disabled-fill-color: #AAA;\n",
              "      --disabled-bg-color: #DDD;\n",
              "  }\n",
              "\n",
              "  [theme=dark] .colab-df-quickchart {\n",
              "      --bg-color: #3B4455;\n",
              "      --fill-color: #D2E3FC;\n",
              "      --hover-bg-color: #434B5C;\n",
              "      --hover-fill-color: #FFFFFF;\n",
              "      --disabled-bg-color: #3B4455;\n",
              "      --disabled-fill-color: #666;\n",
              "  }\n",
              "\n",
              "  .colab-df-quickchart {\n",
              "    background-color: var(--bg-color);\n",
              "    border: none;\n",
              "    border-radius: 50%;\n",
              "    cursor: pointer;\n",
              "    display: none;\n",
              "    fill: var(--fill-color);\n",
              "    height: 32px;\n",
              "    padding: 0;\n",
              "    width: 32px;\n",
              "  }\n",
              "\n",
              "  .colab-df-quickchart:hover {\n",
              "    background-color: var(--hover-bg-color);\n",
              "    box-shadow: 0 1px 2px rgba(60, 64, 67, 0.3), 0 1px 3px 1px rgba(60, 64, 67, 0.15);\n",
              "    fill: var(--button-hover-fill-color);\n",
              "  }\n",
              "\n",
              "  .colab-df-quickchart-complete:disabled,\n",
              "  .colab-df-quickchart-complete:disabled:hover {\n",
              "    background-color: var(--disabled-bg-color);\n",
              "    fill: var(--disabled-fill-color);\n",
              "    box-shadow: none;\n",
              "  }\n",
              "\n",
              "  .colab-df-spinner {\n",
              "    border: 2px solid var(--fill-color);\n",
              "    border-color: transparent;\n",
              "    border-bottom-color: var(--fill-color);\n",
              "    animation:\n",
              "      spin 1s steps(1) infinite;\n",
              "  }\n",
              "\n",
              "  @keyframes spin {\n",
              "    0% {\n",
              "      border-color: transparent;\n",
              "      border-bottom-color: var(--fill-color);\n",
              "      border-left-color: var(--fill-color);\n",
              "    }\n",
              "    20% {\n",
              "      border-color: transparent;\n",
              "      border-left-color: var(--fill-color);\n",
              "      border-top-color: var(--fill-color);\n",
              "    }\n",
              "    30% {\n",
              "      border-color: transparent;\n",
              "      border-left-color: var(--fill-color);\n",
              "      border-top-color: var(--fill-color);\n",
              "      border-right-color: var(--fill-color);\n",
              "    }\n",
              "    40% {\n",
              "      border-color: transparent;\n",
              "      border-right-color: var(--fill-color);\n",
              "      border-top-color: var(--fill-color);\n",
              "    }\n",
              "    60% {\n",
              "      border-color: transparent;\n",
              "      border-right-color: var(--fill-color);\n",
              "    }\n",
              "    80% {\n",
              "      border-color: transparent;\n",
              "      border-right-color: var(--fill-color);\n",
              "      border-bottom-color: var(--fill-color);\n",
              "    }\n",
              "    90% {\n",
              "      border-color: transparent;\n",
              "      border-bottom-color: var(--fill-color);\n",
              "    }\n",
              "  }\n",
              "</style>\n",
              "\n",
              "  <script>\n",
              "    async function quickchart(key) {\n",
              "      const quickchartButtonEl =\n",
              "        document.querySelector('#' + key + ' button');\n",
              "      quickchartButtonEl.disabled = true;  // To prevent multiple clicks.\n",
              "      quickchartButtonEl.classList.add('colab-df-spinner');\n",
              "      try {\n",
              "        const charts = await google.colab.kernel.invokeFunction(\n",
              "            'suggestCharts', [key], {});\n",
              "      } catch (error) {\n",
              "        console.error('Error during call to suggestCharts:', error);\n",
              "      }\n",
              "      quickchartButtonEl.classList.remove('colab-df-spinner');\n",
              "      quickchartButtonEl.classList.add('colab-df-quickchart-complete');\n",
              "    }\n",
              "    (() => {\n",
              "      let quickchartButtonEl =\n",
              "        document.querySelector('#df-ffc64eae-b804-489f-9b66-5f31c3402682 button');\n",
              "      quickchartButtonEl.style.display =\n",
              "        google.colab.kernel.accessAllowed ? 'block' : 'none';\n",
              "    })();\n",
              "  </script>\n",
              "</div>\n",
              "\n",
              "    </div>\n",
              "  </div>\n"
            ]
          },
          "metadata": {},
          "execution_count": 4
        }
      ]
    },
    {
      "cell_type": "code",
      "source": [
        "movies_df.tail()"
      ],
      "metadata": {
        "colab": {
          "base_uri": "https://localhost:8080/",
          "height": 204
        },
        "id": "0D1lC_TE9WY7",
        "outputId": "b68202c1-6030-4626-c358-79f41dfdc596"
      },
      "execution_count": null,
      "outputs": [
        {
          "output_type": "execute_result",
          "data": {
            "text/plain": [
              "         tconst                           primaryTitle                genres  \\\n",
              "6674  tt9879074  The Disappearance of Madeleine McCann     Crime,Documentary   \n",
              "6675  tt9894488                            Foodie Love                 Drama   \n",
              "6676  tt9899340                       Her Private Life        Comedy,Romance   \n",
              "6677  tt9900092                 Motherland: Fort Salem  Drama,Fantasy,Sci-Fi   \n",
              "6678  tt9908860                             Blown Away            Reality-TV   \n",
              "\n",
              "      numVotes  averageRating  startYear  \\\n",
              "6674      8364            6.6     2019.0   \n",
              "6675      1181            7.8     2019.0   \n",
              "6676      1657            7.7     2019.0   \n",
              "6677      6919            7.1     2020.0   \n",
              "6678      1748            7.0     2019.0   \n",
              "\n",
              "                                        SeriesName  \n",
              "6674  The Disappearance of Madeleine McCann (2019)  \n",
              "6675                            Foodie Love (2019)  \n",
              "6676                       Her Private Life (2019)  \n",
              "6677                 Motherland: Fort Salem (2020)  \n",
              "6678                             Blown Away (2019)  "
            ],
            "text/html": [
              "\n",
              "  <div id=\"df-a3a02c1f-5197-4f81-a1e8-715520bf91bb\" class=\"colab-df-container\">\n",
              "    <div>\n",
              "<style scoped>\n",
              "    .dataframe tbody tr th:only-of-type {\n",
              "        vertical-align: middle;\n",
              "    }\n",
              "\n",
              "    .dataframe tbody tr th {\n",
              "        vertical-align: top;\n",
              "    }\n",
              "\n",
              "    .dataframe thead th {\n",
              "        text-align: right;\n",
              "    }\n",
              "</style>\n",
              "<table border=\"1\" class=\"dataframe\">\n",
              "  <thead>\n",
              "    <tr style=\"text-align: right;\">\n",
              "      <th></th>\n",
              "      <th>tconst</th>\n",
              "      <th>primaryTitle</th>\n",
              "      <th>genres</th>\n",
              "      <th>numVotes</th>\n",
              "      <th>averageRating</th>\n",
              "      <th>startYear</th>\n",
              "      <th>SeriesName</th>\n",
              "    </tr>\n",
              "  </thead>\n",
              "  <tbody>\n",
              "    <tr>\n",
              "      <th>6674</th>\n",
              "      <td>tt9879074</td>\n",
              "      <td>The Disappearance of Madeleine McCann</td>\n",
              "      <td>Crime,Documentary</td>\n",
              "      <td>8364</td>\n",
              "      <td>6.6</td>\n",
              "      <td>2019.0</td>\n",
              "      <td>The Disappearance of Madeleine McCann (2019)</td>\n",
              "    </tr>\n",
              "    <tr>\n",
              "      <th>6675</th>\n",
              "      <td>tt9894488</td>\n",
              "      <td>Foodie Love</td>\n",
              "      <td>Drama</td>\n",
              "      <td>1181</td>\n",
              "      <td>7.8</td>\n",
              "      <td>2019.0</td>\n",
              "      <td>Foodie Love (2019)</td>\n",
              "    </tr>\n",
              "    <tr>\n",
              "      <th>6676</th>\n",
              "      <td>tt9899340</td>\n",
              "      <td>Her Private Life</td>\n",
              "      <td>Comedy,Romance</td>\n",
              "      <td>1657</td>\n",
              "      <td>7.7</td>\n",
              "      <td>2019.0</td>\n",
              "      <td>Her Private Life (2019)</td>\n",
              "    </tr>\n",
              "    <tr>\n",
              "      <th>6677</th>\n",
              "      <td>tt9900092</td>\n",
              "      <td>Motherland: Fort Salem</td>\n",
              "      <td>Drama,Fantasy,Sci-Fi</td>\n",
              "      <td>6919</td>\n",
              "      <td>7.1</td>\n",
              "      <td>2020.0</td>\n",
              "      <td>Motherland: Fort Salem (2020)</td>\n",
              "    </tr>\n",
              "    <tr>\n",
              "      <th>6678</th>\n",
              "      <td>tt9908860</td>\n",
              "      <td>Blown Away</td>\n",
              "      <td>Reality-TV</td>\n",
              "      <td>1748</td>\n",
              "      <td>7.0</td>\n",
              "      <td>2019.0</td>\n",
              "      <td>Blown Away (2019)</td>\n",
              "    </tr>\n",
              "  </tbody>\n",
              "</table>\n",
              "</div>\n",
              "    <div class=\"colab-df-buttons\">\n",
              "\n",
              "  <div class=\"colab-df-container\">\n",
              "    <button class=\"colab-df-convert\" onclick=\"convertToInteractive('df-a3a02c1f-5197-4f81-a1e8-715520bf91bb')\"\n",
              "            title=\"Convert this dataframe to an interactive table.\"\n",
              "            style=\"display:none;\">\n",
              "\n",
              "  <svg xmlns=\"http://www.w3.org/2000/svg\" height=\"24px\" viewBox=\"0 -960 960 960\">\n",
              "    <path d=\"M120-120v-720h720v720H120Zm60-500h600v-160H180v160Zm220 220h160v-160H400v160Zm0 220h160v-160H400v160ZM180-400h160v-160H180v160Zm440 0h160v-160H620v160ZM180-180h160v-160H180v160Zm440 0h160v-160H620v160Z\"/>\n",
              "  </svg>\n",
              "    </button>\n",
              "\n",
              "  <style>\n",
              "    .colab-df-container {\n",
              "      display:flex;\n",
              "      gap: 12px;\n",
              "    }\n",
              "\n",
              "    .colab-df-convert {\n",
              "      background-color: #E8F0FE;\n",
              "      border: none;\n",
              "      border-radius: 50%;\n",
              "      cursor: pointer;\n",
              "      display: none;\n",
              "      fill: #1967D2;\n",
              "      height: 32px;\n",
              "      padding: 0 0 0 0;\n",
              "      width: 32px;\n",
              "    }\n",
              "\n",
              "    .colab-df-convert:hover {\n",
              "      background-color: #E2EBFA;\n",
              "      box-shadow: 0px 1px 2px rgba(60, 64, 67, 0.3), 0px 1px 3px 1px rgba(60, 64, 67, 0.15);\n",
              "      fill: #174EA6;\n",
              "    }\n",
              "\n",
              "    .colab-df-buttons div {\n",
              "      margin-bottom: 4px;\n",
              "    }\n",
              "\n",
              "    [theme=dark] .colab-df-convert {\n",
              "      background-color: #3B4455;\n",
              "      fill: #D2E3FC;\n",
              "    }\n",
              "\n",
              "    [theme=dark] .colab-df-convert:hover {\n",
              "      background-color: #434B5C;\n",
              "      box-shadow: 0px 1px 3px 1px rgba(0, 0, 0, 0.15);\n",
              "      filter: drop-shadow(0px 1px 2px rgba(0, 0, 0, 0.3));\n",
              "      fill: #FFFFFF;\n",
              "    }\n",
              "  </style>\n",
              "\n",
              "    <script>\n",
              "      const buttonEl =\n",
              "        document.querySelector('#df-a3a02c1f-5197-4f81-a1e8-715520bf91bb button.colab-df-convert');\n",
              "      buttonEl.style.display =\n",
              "        google.colab.kernel.accessAllowed ? 'block' : 'none';\n",
              "\n",
              "      async function convertToInteractive(key) {\n",
              "        const element = document.querySelector('#df-a3a02c1f-5197-4f81-a1e8-715520bf91bb');\n",
              "        const dataTable =\n",
              "          await google.colab.kernel.invokeFunction('convertToInteractive',\n",
              "                                                    [key], {});\n",
              "        if (!dataTable) return;\n",
              "\n",
              "        const docLinkHtml = 'Like what you see? Visit the ' +\n",
              "          '<a target=\"_blank\" href=https://colab.research.google.com/notebooks/data_table.ipynb>data table notebook</a>'\n",
              "          + ' to learn more about interactive tables.';\n",
              "        element.innerHTML = '';\n",
              "        dataTable['output_type'] = 'display_data';\n",
              "        await google.colab.output.renderOutput(dataTable, element);\n",
              "        const docLink = document.createElement('div');\n",
              "        docLink.innerHTML = docLinkHtml;\n",
              "        element.appendChild(docLink);\n",
              "      }\n",
              "    </script>\n",
              "  </div>\n",
              "\n",
              "\n",
              "<div id=\"df-7301eb4c-1289-407f-b55b-e2221fdef601\">\n",
              "  <button class=\"colab-df-quickchart\" onclick=\"quickchart('df-7301eb4c-1289-407f-b55b-e2221fdef601')\"\n",
              "            title=\"Suggest charts\"\n",
              "            style=\"display:none;\">\n",
              "\n",
              "<svg xmlns=\"http://www.w3.org/2000/svg\" height=\"24px\"viewBox=\"0 0 24 24\"\n",
              "     width=\"24px\">\n",
              "    <g>\n",
              "        <path d=\"M19 3H5c-1.1 0-2 .9-2 2v14c0 1.1.9 2 2 2h14c1.1 0 2-.9 2-2V5c0-1.1-.9-2-2-2zM9 17H7v-7h2v7zm4 0h-2V7h2v10zm4 0h-2v-4h2v4z\"/>\n",
              "    </g>\n",
              "</svg>\n",
              "  </button>\n",
              "\n",
              "<style>\n",
              "  .colab-df-quickchart {\n",
              "      --bg-color: #E8F0FE;\n",
              "      --fill-color: #1967D2;\n",
              "      --hover-bg-color: #E2EBFA;\n",
              "      --hover-fill-color: #174EA6;\n",
              "      --disabled-fill-color: #AAA;\n",
              "      --disabled-bg-color: #DDD;\n",
              "  }\n",
              "\n",
              "  [theme=dark] .colab-df-quickchart {\n",
              "      --bg-color: #3B4455;\n",
              "      --fill-color: #D2E3FC;\n",
              "      --hover-bg-color: #434B5C;\n",
              "      --hover-fill-color: #FFFFFF;\n",
              "      --disabled-bg-color: #3B4455;\n",
              "      --disabled-fill-color: #666;\n",
              "  }\n",
              "\n",
              "  .colab-df-quickchart {\n",
              "    background-color: var(--bg-color);\n",
              "    border: none;\n",
              "    border-radius: 50%;\n",
              "    cursor: pointer;\n",
              "    display: none;\n",
              "    fill: var(--fill-color);\n",
              "    height: 32px;\n",
              "    padding: 0;\n",
              "    width: 32px;\n",
              "  }\n",
              "\n",
              "  .colab-df-quickchart:hover {\n",
              "    background-color: var(--hover-bg-color);\n",
              "    box-shadow: 0 1px 2px rgba(60, 64, 67, 0.3), 0 1px 3px 1px rgba(60, 64, 67, 0.15);\n",
              "    fill: var(--button-hover-fill-color);\n",
              "  }\n",
              "\n",
              "  .colab-df-quickchart-complete:disabled,\n",
              "  .colab-df-quickchart-complete:disabled:hover {\n",
              "    background-color: var(--disabled-bg-color);\n",
              "    fill: var(--disabled-fill-color);\n",
              "    box-shadow: none;\n",
              "  }\n",
              "\n",
              "  .colab-df-spinner {\n",
              "    border: 2px solid var(--fill-color);\n",
              "    border-color: transparent;\n",
              "    border-bottom-color: var(--fill-color);\n",
              "    animation:\n",
              "      spin 1s steps(1) infinite;\n",
              "  }\n",
              "\n",
              "  @keyframes spin {\n",
              "    0% {\n",
              "      border-color: transparent;\n",
              "      border-bottom-color: var(--fill-color);\n",
              "      border-left-color: var(--fill-color);\n",
              "    }\n",
              "    20% {\n",
              "      border-color: transparent;\n",
              "      border-left-color: var(--fill-color);\n",
              "      border-top-color: var(--fill-color);\n",
              "    }\n",
              "    30% {\n",
              "      border-color: transparent;\n",
              "      border-left-color: var(--fill-color);\n",
              "      border-top-color: var(--fill-color);\n",
              "      border-right-color: var(--fill-color);\n",
              "    }\n",
              "    40% {\n",
              "      border-color: transparent;\n",
              "      border-right-color: var(--fill-color);\n",
              "      border-top-color: var(--fill-color);\n",
              "    }\n",
              "    60% {\n",
              "      border-color: transparent;\n",
              "      border-right-color: var(--fill-color);\n",
              "    }\n",
              "    80% {\n",
              "      border-color: transparent;\n",
              "      border-right-color: var(--fill-color);\n",
              "      border-bottom-color: var(--fill-color);\n",
              "    }\n",
              "    90% {\n",
              "      border-color: transparent;\n",
              "      border-bottom-color: var(--fill-color);\n",
              "    }\n",
              "  }\n",
              "</style>\n",
              "\n",
              "  <script>\n",
              "    async function quickchart(key) {\n",
              "      const quickchartButtonEl =\n",
              "        document.querySelector('#' + key + ' button');\n",
              "      quickchartButtonEl.disabled = true;  // To prevent multiple clicks.\n",
              "      quickchartButtonEl.classList.add('colab-df-spinner');\n",
              "      try {\n",
              "        const charts = await google.colab.kernel.invokeFunction(\n",
              "            'suggestCharts', [key], {});\n",
              "      } catch (error) {\n",
              "        console.error('Error during call to suggestCharts:', error);\n",
              "      }\n",
              "      quickchartButtonEl.classList.remove('colab-df-spinner');\n",
              "      quickchartButtonEl.classList.add('colab-df-quickchart-complete');\n",
              "    }\n",
              "    (() => {\n",
              "      let quickchartButtonEl =\n",
              "        document.querySelector('#df-7301eb4c-1289-407f-b55b-e2221fdef601 button');\n",
              "      quickchartButtonEl.style.display =\n",
              "        google.colab.kernel.accessAllowed ? 'block' : 'none';\n",
              "    })();\n",
              "  </script>\n",
              "</div>\n",
              "\n",
              "    </div>\n",
              "  </div>\n"
            ]
          },
          "metadata": {},
          "execution_count": 5
        }
      ]
    },
    {
      "cell_type": "markdown",
      "source": [
        "# 5. Check the \"n\" s"
      ],
      "metadata": {
        "id": "Mz5x1FTOqKDf"
      }
    },
    {
      "cell_type": "markdown",
      "source": [
        "The rating for episodes is a float type and it ranges from 1 to 10 (IMDb rating scale)"
      ],
      "metadata": {
        "id": "GOJv9RUDQb1E"
      }
    },
    {
      "cell_type": "code",
      "source": [
        "movies_df['averageRating'].head()"
      ],
      "metadata": {
        "id": "B92Zro4vqP1K",
        "colab": {
          "base_uri": "https://localhost:8080/"
        },
        "outputId": "7eeb3189-7a57-481d-85cf-e90324f736ef"
      },
      "execution_count": null,
      "outputs": [
        {
          "output_type": "execute_result",
          "data": {
            "text/plain": [
              "0    7.8\n",
              "1    7.8\n",
              "2    8.4\n",
              "3    8.6\n",
              "4    8.4\n",
              "Name: averageRating, dtype: float64"
            ]
          },
          "metadata": {},
          "execution_count": 6
        }
      ]
    },
    {
      "cell_type": "markdown",
      "source": [
        "The number of votes should be greater than 1000"
      ],
      "metadata": {
        "id": "hL4EL_is5_or"
      }
    },
    {
      "cell_type": "code",
      "source": [
        "movies_df['numVotes'].head()"
      ],
      "metadata": {
        "id": "F__-P96OQ49w",
        "colab": {
          "base_uri": "https://localhost:8080/"
        },
        "outputId": "8e920d6d-0329-443e-c7ba-0dc5474253c7"
      },
      "execution_count": null,
      "outputs": [
        {
          "output_type": "execute_result",
          "data": {
            "text/plain": [
              "0    1124\n",
              "1    2064\n",
              "2    1181\n",
              "3    4676\n",
              "4    1231\n",
              "Name: numVotes, dtype: int64"
            ]
          },
          "metadata": {},
          "execution_count": 7
        }
      ]
    },
    {
      "cell_type": "markdown",
      "source": [
        "There should be around 6000 movie series"
      ],
      "metadata": {
        "id": "h5V8_jvx8Jus"
      }
    },
    {
      "cell_type": "code",
      "source": [
        "len(movies_df['SeriesName'].unique())"
      ],
      "metadata": {
        "colab": {
          "base_uri": "https://localhost:8080/"
        },
        "id": "kp6JioSS8oP2",
        "outputId": "c99a6249-8a0f-4112-f464-968347249764"
      },
      "execution_count": null,
      "outputs": [
        {
          "output_type": "execute_result",
          "data": {
            "text/plain": [
              "6672"
            ]
          },
          "metadata": {},
          "execution_count": 32
        }
      ]
    },
    {
      "cell_type": "markdown",
      "source": [
        "# 6. Validate against external knowledge\n",
        "\n",
        "What is the highest rating that IMDb rates the movies?"
      ],
      "metadata": {
        "id": "fh1BQjo6TjbD"
      }
    },
    {
      "cell_type": "code",
      "source": [
        "movies_df['averageRating'].max()"
      ],
      "metadata": {
        "colab": {
          "base_uri": "https://localhost:8080/"
        },
        "id": "g0PIKYzETxNz",
        "outputId": "936b189c-5a63-4ee4-ba9a-c994be39c892"
      },
      "execution_count": null,
      "outputs": [
        {
          "output_type": "execute_result",
          "data": {
            "text/plain": [
              "9.9"
            ]
          },
          "metadata": {},
          "execution_count": 9
        }
      ]
    },
    {
      "cell_type": "markdown",
      "source": [
        "What is the lowest rating that IMDb rates the movies?"
      ],
      "metadata": {
        "id": "UaZ57rEjoOV1"
      }
    },
    {
      "cell_type": "code",
      "source": [
        "movies_df['averageRating'].min()"
      ],
      "metadata": {
        "colab": {
          "base_uri": "https://localhost:8080/"
        },
        "id": "nMdnS0-MUYHO",
        "outputId": "db87e407-2bb6-4068-e8f1-c28c5063e840"
      },
      "execution_count": null,
      "outputs": [
        {
          "output_type": "execute_result",
          "data": {
            "text/plain": [
              "1.0"
            ]
          },
          "metadata": {},
          "execution_count": 10
        }
      ]
    },
    {
      "cell_type": "markdown",
      "source": [
        "What is the highest votes within the dataset?"
      ],
      "metadata": {
        "id": "7DmWWZ1C6Hwo"
      }
    },
    {
      "cell_type": "code",
      "source": [
        "movies_df['numVotes'].max()"
      ],
      "metadata": {
        "colab": {
          "base_uri": "https://localhost:8080/"
        },
        "id": "wdd0KlQq6NL_",
        "outputId": "2f9b1d42-f64e-496d-b38d-972975b37267"
      },
      "execution_count": null,
      "outputs": [
        {
          "output_type": "execute_result",
          "data": {
            "text/plain": [
              "1760872"
            ]
          },
          "metadata": {},
          "execution_count": 11
        }
      ]
    },
    {
      "cell_type": "markdown",
      "source": [
        "What movies received the highest vote?"
      ],
      "metadata": {
        "id": "HHoOMMFMcVKn"
      }
    },
    {
      "cell_type": "code",
      "source": [
        "highest_movie_df = movies_df[['SeriesName','numVotes']]\n",
        "\n",
        "result = highest_movie_df[highest_movie_df['numVotes'] == 1760872]\n",
        "print(result)"
      ],
      "metadata": {
        "colab": {
          "base_uri": "https://localhost:8080/"
        },
        "id": "cWw4xqJDcaXY",
        "outputId": "fc2f3f79-9f88-42ec-867e-b6bafd29eeef"
      },
      "execution_count": null,
      "outputs": [
        {
          "output_type": "stream",
          "name": "stdout",
          "text": [
            "                  SeriesName  numVotes\n",
            "2543  Game of Thrones (2011)   1760872\n"
          ]
        }
      ]
    },
    {
      "cell_type": "markdown",
      "source": [
        "What is the lowest votes within the dataset?"
      ],
      "metadata": {
        "id": "_6DqlLVZ6ibA"
      }
    },
    {
      "cell_type": "code",
      "source": [
        "movies_df['numVotes'].min()"
      ],
      "metadata": {
        "colab": {
          "base_uri": "https://localhost:8080/"
        },
        "id": "KVET9aXa6mQQ",
        "outputId": "c7998eae-a0bb-444f-ede8-beebd8504226"
      },
      "execution_count": null,
      "outputs": [
        {
          "output_type": "execute_result",
          "data": {
            "text/plain": [
              "1001"
            ]
          },
          "metadata": {},
          "execution_count": 12
        }
      ]
    },
    {
      "cell_type": "markdown",
      "source": [
        "What movies that received the lowest vote?"
      ],
      "metadata": {
        "id": "pwbtDqaEcM2O"
      }
    },
    {
      "cell_type": "code",
      "source": [
        "lowest_movie_df = movies_df[['SeriesName','numVotes']]\n",
        "\n",
        "result = lowest_movie_df[lowest_movie_df['numVotes'] == 1001]\n",
        "print(result)"
      ],
      "metadata": {
        "colab": {
          "base_uri": "https://localhost:8080/"
        },
        "id": "AmwFHParbCjn",
        "outputId": "0564d9a2-51df-43cd-a23c-824cb94dba22"
      },
      "execution_count": null,
      "outputs": [
        {
          "output_type": "stream",
          "name": "stdout",
          "text": [
            "                        SeriesName  numVotes\n",
            "1145    Vengeance Unlimited (1998)      1001\n",
            "1172             Robot Wars (1998)      1001\n",
            "3225  Steven Seagal: Lawman (2009)      1001\n",
            "3830                 Gosick (2011)      1001\n"
          ]
        }
      ]
    },
    {
      "cell_type": "markdown",
      "source": [
        "What are the most common genres?"
      ],
      "metadata": {
        "id": "Ra1PDgzH9neR"
      }
    },
    {
      "cell_type": "code",
      "source": [
        "common_genres_df = movies_df['genres'].value_counts().head(10)"
      ],
      "metadata": {
        "colab": {
          "base_uri": "https://localhost:8080/"
        },
        "id": "qt-yBCq39qtz",
        "outputId": "f542f2a9-57c0-405d-f371-6aaee61b444b"
      },
      "execution_count": null,
      "outputs": [
        {
          "output_type": "execute_result",
          "data": {
            "text/plain": [
              "Comedy                        756\n",
              "Drama                         344\n",
              "Action,Adventure,Animation    344\n",
              "Crime,Drama,Mystery           319\n",
              "Comedy,Drama                  186\n",
              "Action,Crime,Drama            142\n",
              "Drama,Romance                 141\n",
              "Adventure,Animation,Comedy    138\n",
              "Documentary                   138\n",
              "Reality-TV                    133\n",
              "Name: genres, dtype: int64"
            ]
          },
          "metadata": {},
          "execution_count": 13
        }
      ]
    },
    {
      "cell_type": "markdown",
      "source": [
        "What is the sum of all ratings for TV series?"
      ],
      "metadata": {
        "id": "XngsRWMAc4EO"
      }
    },
    {
      "cell_type": "code",
      "source": [
        "movies_df['averageRating'].value_counts().sum()"
      ],
      "metadata": {
        "colab": {
          "base_uri": "https://localhost:8080/"
        },
        "id": "KOxryzxyc22X",
        "outputId": "89317466-1bbd-41bb-eb5f-b9b1ad022d43"
      },
      "execution_count": null,
      "outputs": [
        {
          "output_type": "execute_result",
          "data": {
            "text/plain": [
              "6679"
            ]
          },
          "metadata": {},
          "execution_count": 49
        }
      ]
    },
    {
      "cell_type": "markdown",
      "source": [
        "# 7. Make a plot"
      ],
      "metadata": {
        "id": "aXj60ooiveJE"
      }
    },
    {
      "cell_type": "code",
      "source": [
        "movies_df['averageRating'].hist(bins = 100)\n",
        "\n",
        "plt.ylabel(\"The number of ratings for each rating points from 1 to 10\")\n",
        "plt.xlabel(\"Average ratings\")\n",
        "plt.title(\"Distributing for value in average ratings\")\n"
      ],
      "metadata": {
        "colab": {
          "base_uri": "https://localhost:8080/",
          "height": 489
        },
        "id": "JxCiegf0viJQ",
        "outputId": "b4294705-8115-4323-e9ef-67d0f551fd4d"
      },
      "execution_count": null,
      "outputs": [
        {
          "output_type": "execute_result",
          "data": {
            "text/plain": [
              "Text(0.5, 1.0, 'Distributing for value in average ratings')"
            ]
          },
          "metadata": {},
          "execution_count": 50
        },
        {
          "output_type": "display_data",
          "data": {
            "text/plain": [
              "<Figure size 640x480 with 1 Axes>"
            ],
            "image/png": "[encoded data removed]"
          },
          "metadata": {}
        }
      ]
    },
    {
      "cell_type": "markdown",
      "source": [
        "The movie series' average ratings peak is around 7."
      ],
      "metadata": {
        "id": "VKxLYGC_Qdwj"
      }
    },
    {
      "cell_type": "code",
      "source": [
        "# Group the genres by number of votes by top 10 rating points\n",
        "ratings_mean_votes = movies_df.groupby('averageRating')['numVotes'].mean().sort_values(ascending=False).head(10)\n",
        "\n",
        "# Plotting the bar chart\n",
        "plt.figure(figsize=(10, 6))\n",
        "ratings_mean_votes.plot(kind='bar', color='skyblue')\n",
        "plt.title('Top 10 high ratings series with highest Mean Votes')\n",
        "plt.xlabel('Average Ratings')\n",
        "plt.ylabel('Mean Votes')\n",
        "plt.xticks(rotation=45, ha='right')\n",
        "plt.show()"
      ],
      "metadata": {
        "colab": {
          "base_uri": "https://localhost:8080/",
          "height": 576
        },
        "id": "ULQ6u4JtALKr",
        "outputId": "87e2d6f1-d410-4df7-8982-e07996996701"
      },
      "execution_count": null,
      "outputs": [
        {
          "output_type": "display_data",
          "data": {
            "text/plain": [
              "<Figure size 1000x600 with 1 Axes>"
            ],
            "image/png": "[encoded data removed]"
          },
          "metadata": {}
        }
      ]
    },
    {
      "cell_type": "markdown",
      "source": [
        "# 8. Try an easy solution"
      ],
      "metadata": {
        "id": "FDl17Ne-PSsz"
      }
    },
    {
      "cell_type": "code",
      "source": [
        "np.corrcoef(movies_df['averageRating'], movies_df['numVotes'])"
      ],
      "metadata": {
        "id": "QcR-13chi1_N",
        "colab": {
          "base_uri": "https://localhost:8080/"
        },
        "outputId": "5fbed999-6fe0-4c14-c010-394f68263de3"
      },
      "execution_count": null,
      "outputs": [
        {
          "output_type": "execute_result",
          "data": {
            "text/plain": [
              "array([[1.        , 0.17189102],\n",
              "       [0.17189102, 1.        ]])"
            ]
          },
          "metadata": {},
          "execution_count": 27
        }
      ]
    },
    {
      "cell_type": "markdown",
      "source": [
        "Using t-test to compare the means between two groups which are the group that has less than 10000 votes and the  than 10000 votes and group that has more than 10000 votes."
      ],
      "metadata": {
        "id": "CiPVhpeoKmCC"
      }
    },
    {
      "cell_type": "code",
      "source": [
        "group1 = movies_df[movies_df['numVotes'] > 10000]['averageRating']\n",
        "group2 = movies_df[movies_df['numVotes'] <= 10000]['averageRating']\n",
        "\n",
        "tstat, pvalue = ttest_ind(group1, group2)\n",
        "\n",
        "print('T score: {}'.format(tstat))\n",
        "print('P value: {}'.format(pvalue))"
      ],
      "metadata": {
        "colab": {
          "base_uri": "https://localhost:8080/"
        },
        "id": "CTd4b920Kiyw",
        "outputId": "7411a6d1-2ff4-4c7c-d670-0ab296087222"
      },
      "execution_count": null,
      "outputs": [
        {
          "output_type": "stream",
          "name": "stdout",
          "text": [
            "T score: 17.71312408377712\n",
            "P value: 1.212139717329983e-68\n"
          ]
        }
      ]
    },
    {
      "cell_type": "markdown",
      "source": [
        "As the p-value is 1.212139717329983e-68 and it is certainly smaller than 0.05 and so our results are statistically significant"
      ],
      "metadata": {
        "id": "1WIvw4NIOW1C"
      }
    },
    {
      "cell_type": "markdown",
      "source": [
        "# Write up and reflection\n",
        "\n",
        "The dataset I used is from IMDb_TV_dataset which is TV Series Names with 1k\n",
        "Votes. This dataset is very interesting as it is a list of more than 6000 movie series which are all rated by IMDb. It also included the number of voters for each series to show the differences between the series that people prefer and not. The question I come up with is \"How well do vote counts correlate with other measures of popularity like ratings of the series?\".\n",
        "\n",
        "The reason why I chose this question is because it is interesting and curious for me to figure out if there is a relationship between the average ratings of each movie and the number of votes that viewers vote for their favorite movies. It is transparent that the dataset already has two columns which are 'averageRating', and 'numVotes' that describe and present the numeric value for both variables. If we managed the dataset well and printed out the result that we needed then the question is answerable.\n",
        "\n",
        "In the dataset, the highest rating for a movie is 9.9 and the lowest rating for a movie is 1.0. The movie Game of Thrones achieved the highest vote from the audience which has 1760872 votes. Otherwise, four films achieved the lowest vote from the audience which are 'Vengeance Unlimited', 'Robot Wars', 'Steven Seagal: Lawman', and 'Gosick', all of them received 1001 votes from the audience.\n",
        "\n",
        "I have identified the top 10 most common genres present in the dataset. The most frequent genre is \"Comedy\" which appears 756 times. \"Drama\" is the second most common genre with 344 occurrences. The third most common genre is a tie between \"Action, Adventure, Animation\" and \"Crime, Drama, Mystery\" with 319 appearances each. The fourth most common genre is \"Comedy, Drama\" which appears 186 times. The fifth most common genre is \"Action, Crime, Drama\" which appears 142 times. \"Drama, Romance\" is the sixth most common genre with 141 appearances. The seventh and eighth most common genres are \"Adventure, Animation, Comedy\" and \"Documentary\" respectively, with 138 appearances each. Finally, \"Reality-TV\" is the ninth most common genre with 133 appearances.\n",
        "\n",
        "To make the dataset more visualizable, I made a histogram to show the number of ratings that people rate for each series and the average rating value which represents what rating point that commonly used when people rate a film. The result shows us that there are 6679 ratings for each TV series, the points range from 1 to 10. The visualization shows that the most common average movie rating is around 7, with approximately 100 movies falling in this bin. There is a very long tail to the right, with each caliper facing to the right containing fewer and fewer movies. The peak frequency is at an average rating of 7, indicating this is the most common rating value. While the majority of average ratings seem to be concentrated between 6 and 8, there is a meaningful distribution spanning the full range of ratings shown from 2 to 10, albeit with decreasing frequencies. At the low end, at an average rating of 2, there are around 10 movies in this bin, meaning those films have very poorly received audience ratings. Meanwhile, at the very high end, movies with near-universal acclaim and a 10 average rating are quite rare - with around 15 movies achieving that level of praise based on the visualized histogram. In examining the plot, an evident skew or imbalance emerges - there is a much longer tail to the right side featuring the high ratings. Comparing the frequencies, there are more movies with high average ratings than low average ratings. More than twice as many movies have averages above 7 than those below 5. This suggests most movies do achieve quite positive audience ratings overall - though the full spectrum is represented.\n",
        "\n",
        "I have created a second bar chart that displays the top 10 highest-rated TV series based on their average audience rating scores. Although the exact names of the series are not labeled, the x-axis indicates that these are the 10 programs with the highest mean viewership approval ratings. The y-axis quantifies those average rating points on a scale ranging from 8.6 to 9.5, without any labeled unit of measurement. The highest-rated series achieved an impressive mean rating of 9.5 out of what one may assume to be a total approbation score of 10. Meanwhile, the \"worst\" ranked series in this elite selection still maintained a laudable audience average rating of 8.6. This indicates that even the lowest-rated show among these top performers received critical acclaim from fans. The evenly spaced and colored bars make it easier to compare the relative ratings. When delving deeper into the distribution, the clumping of ratings toward the upper part of the 9 to 9.5 region suggests that most of these premier series have an average rating between 9.3 and 9.5. Only a few dip slightly lower beneath the overall mean of 9.2 for this sample. This skew indicates a very high level of appreciation by entertainment consumers for these specific top-tier shows. Most of these esteemed programs are likely received similarly without much variation.\n",
        "\n",
        "For the statistical method, I used the t-test for this experiment. The high t-score output of 17.71312408377712 provides categorical statistical validation that there is a pronounced and consequential difference between the mean average ratings of popular movies (with >10,000 votes) versus more obscure films with less audience turnout. This isn't just a minor discrepancy in rating averages - such a sizable t-statistic points decisively to these groups means being decidedly disparate from one another. Not only that, but the exceptionally tiny p-value means attributing these contrasting rating averages to mere randomness or chance is essentially impossible. By convention, if the p-value falls below a commonly accepted 0.05 threshold, that signifies strong analytical backing to state the two group means significantly and factually differ. At 1.212139717329983e-68, the p-value is exponentially smaller than 0.05, so that we reject any null hypothesis guessing the ratings for more and less popular movies might be similar due to coincidence or luck. Combining these results, people most talk about movies that enthuse crowds and draw over 10 thousand individual ratings truly have earned meaningfully higher average ratings versus more obscure niche films. This association between popularity and praise makes logical sense - well-made entertaining films that resonate with viewers and meet expectations will stimulate positive word of mouth as well as communal excitement to see the movie, fueling larger audience turnout as well as approbative ratings from fans. The numerical outputs of the t-test confirm our hypothesis that blockbusters earn higher viewership and ratings.\n",
        "\n",
        "Reflection:\n",
        "\n",
        "The compilation of movie metadata and its usage scenarios, such as analyzing genre trends, may seem reasonable at first, but we need to be cautious about biases and generalizations that could stereotype certain groups. Even though fans consent to share their ratings for public consumption and critique, there are concerns about the accuracy of their ratings due to selection biases.\n",
        "\n",
        "Therefore, using this data for commercial purposes without proper consent is legally questionable. Although this movie metadata provides valuable analysis opportunities, we should be careful not to treat its outputs as absolute truth, as it may perpetuate historical biases. The data's likely skewed provenance, limited consent, and opaque compilation methodology make it essential to questions raised on the canvas to avoid reinforcing problematic tropes."
      ],
      "metadata": {
        "id": "BM1OkoLmRial"
      }
    }
  ]
}